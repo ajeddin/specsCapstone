{
 "cells": [
  {
   "cell_type": "code",
   "execution_count": 1,
   "id": "18dca571",
   "metadata": {},
   "outputs": [],
   "source": [
    "import pandas as pd \n",
    "import matplotlib.pyplot as plt\n",
    "import seaborn as sns "
   ]
  },
  {
   "cell_type": "code",
   "execution_count": 2,
   "id": "798945bc",
   "metadata": {},
   "outputs": [],
   "source": [
    "terms = pd.read_csv('congress-terms.csv')\n",
    "resignation = pd.read_csv('congressional_resignations.csv')\n",
    "genericBallot = pd.read_csv('generic_topline_historical.csv')"
   ]
  },
  {
   "cell_type": "code",
   "execution_count": 5,
   "id": "905ce293",
   "metadata": {},
   "outputs": [
    {
     "data": {
      "text/html": [
       "<div>\n",
       "<style scoped>\n",
       "    .dataframe tbody tr th:only-of-type {\n",
       "        vertical-align: middle;\n",
       "    }\n",
       "\n",
       "    .dataframe tbody tr th {\n",
       "        vertical-align: top;\n",
       "    }\n",
       "\n",
       "    .dataframe thead th {\n",
       "        text-align: right;\n",
       "    }\n",
       "</style>\n",
       "<table border=\"1\" class=\"dataframe\">\n",
       "  <thead>\n",
       "    <tr style=\"text-align: right;\">\n",
       "      <th></th>\n",
       "      <th>congress</th>\n",
       "      <th>chamber</th>\n",
       "      <th>bioguide</th>\n",
       "      <th>firstname</th>\n",
       "      <th>middlename</th>\n",
       "      <th>lastname</th>\n",
       "      <th>suffix</th>\n",
       "      <th>birthday</th>\n",
       "      <th>state</th>\n",
       "      <th>party</th>\n",
       "      <th>incumbent</th>\n",
       "      <th>termstart</th>\n",
       "      <th>age</th>\n",
       "    </tr>\n",
       "  </thead>\n",
       "  <tbody>\n",
       "    <tr>\n",
       "      <th>18630</th>\n",
       "      <td>113</td>\n",
       "      <td>senate</td>\n",
       "      <td>B000243</td>\n",
       "      <td>Max</td>\n",
       "      <td>S.</td>\n",
       "      <td>Baucus</td>\n",
       "      <td>NaN</td>\n",
       "      <td>1937-12-10</td>\n",
       "      <td>MT</td>\n",
       "      <td>D</td>\n",
       "      <td>Yes</td>\n",
       "      <td>2013-01-03</td>\n",
       "      <td>75.1</td>\n",
       "    </tr>\n",
       "    <tr>\n",
       "      <th>18631</th>\n",
       "      <td>113</td>\n",
       "      <td>senate</td>\n",
       "      <td>C001099</td>\n",
       "      <td>William</td>\n",
       "      <td>NaN</td>\n",
       "      <td>Cowan</td>\n",
       "      <td>NaN</td>\n",
       "      <td>1965-04-03</td>\n",
       "      <td>MA</td>\n",
       "      <td>D</td>\n",
       "      <td>No</td>\n",
       "      <td>2013-01-03</td>\n",
       "      <td>47.8</td>\n",
       "    </tr>\n",
       "    <tr>\n",
       "      <th>18632</th>\n",
       "      <td>113</td>\n",
       "      <td>senate</td>\n",
       "      <td>C001100</td>\n",
       "      <td>Jeffrey</td>\n",
       "      <td>Scott</td>\n",
       "      <td>Chiesa</td>\n",
       "      <td>NaN</td>\n",
       "      <td>1961-06-21</td>\n",
       "      <td>NJ</td>\n",
       "      <td>R</td>\n",
       "      <td>No</td>\n",
       "      <td>2013-01-03</td>\n",
       "      <td>51.5</td>\n",
       "    </tr>\n",
       "    <tr>\n",
       "      <th>18633</th>\n",
       "      <td>113</td>\n",
       "      <td>senate</td>\n",
       "      <td>K000148</td>\n",
       "      <td>John</td>\n",
       "      <td>Forbes</td>\n",
       "      <td>Kerry</td>\n",
       "      <td>NaN</td>\n",
       "      <td>1939-12-10</td>\n",
       "      <td>MA</td>\n",
       "      <td>D</td>\n",
       "      <td>Yes</td>\n",
       "      <td>2013-01-03</td>\n",
       "      <td>73.1</td>\n",
       "    </tr>\n",
       "    <tr>\n",
       "      <th>18634</th>\n",
       "      <td>113</td>\n",
       "      <td>senate</td>\n",
       "      <td>L000123</td>\n",
       "      <td>Frank</td>\n",
       "      <td>R.</td>\n",
       "      <td>Lautenberg</td>\n",
       "      <td>NaN</td>\n",
       "      <td>1920-01-22</td>\n",
       "      <td>NJ</td>\n",
       "      <td>D</td>\n",
       "      <td>Yes</td>\n",
       "      <td>2013-01-03</td>\n",
       "      <td>93.0</td>\n",
       "    </tr>\n",
       "  </tbody>\n",
       "</table>\n",
       "</div>"
      ],
      "text/plain": [
       "       congress chamber bioguide firstname middlename    lastname suffix  \\\n",
       "18630       113  senate  B000243       Max         S.      Baucus    NaN   \n",
       "18631       113  senate  C001099   William        NaN       Cowan    NaN   \n",
       "18632       113  senate  C001100   Jeffrey      Scott      Chiesa    NaN   \n",
       "18633       113  senate  K000148      John     Forbes       Kerry    NaN   \n",
       "18634       113  senate  L000123     Frank         R.  Lautenberg    NaN   \n",
       "\n",
       "         birthday state party incumbent   termstart   age  \n",
       "18630  1937-12-10    MT     D       Yes  2013-01-03  75.1  \n",
       "18631  1965-04-03    MA     D        No  2013-01-03  47.8  \n",
       "18632  1961-06-21    NJ     R        No  2013-01-03  51.5  \n",
       "18633  1939-12-10    MA     D       Yes  2013-01-03  73.1  \n",
       "18634  1920-01-22    NJ     D       Yes  2013-01-03  93.0  "
      ]
     },
     "execution_count": 5,
     "metadata": {},
     "output_type": "execute_result"
    }
   ],
   "source": [
    "terms.tail()"
   ]
  },
  {
   "cell_type": "code",
   "execution_count": 4,
   "id": "efbe4d53",
   "metadata": {},
   "outputs": [
    {
     "data": {
      "text/plain": [
       "array(['D', 'R', 'AL', 'L', 'I', 'ID'], dtype=object)"
      ]
     },
     "execution_count": 4,
     "metadata": {},
     "output_type": "execute_result"
    }
   ],
   "source": [
    "terms.party.unique()"
   ]
  },
  {
   "cell_type": "code",
   "execution_count": 6,
   "id": "557abda4",
   "metadata": {},
   "outputs": [
    {
     "data": {
      "text/plain": [
       "congress          0\n",
       "chamber           0\n",
       "bioguide          0\n",
       "firstname         0\n",
       "middlename     3536\n",
       "lastname          0\n",
       "suffix        16937\n",
       "birthday          0\n",
       "state             0\n",
       "party             0\n",
       "incumbent         0\n",
       "termstart         0\n",
       "age               0\n",
       "dtype: int64"
      ]
     },
     "execution_count": 6,
     "metadata": {},
     "output_type": "execute_result"
    }
   ],
   "source": [
    "terms.isna().sum()"
   ]
  },
  {
   "cell_type": "code",
   "execution_count": 10,
   "id": "832da422",
   "metadata": {},
   "outputs": [],
   "source": [
    "terms.drop(['middlename','suffix'],axis=1,inplace=True)"
   ]
  },
  {
   "cell_type": "code",
   "execution_count": 11,
   "id": "e0f04df1",
   "metadata": {},
   "outputs": [
    {
     "data": {
      "text/plain": [
       "congress     0\n",
       "chamber      0\n",
       "bioguide     0\n",
       "firstname    0\n",
       "lastname     0\n",
       "birthday     0\n",
       "state        0\n",
       "party        0\n",
       "incumbent    0\n",
       "termstart    0\n",
       "age          0\n",
       "dtype: int64"
      ]
     },
     "execution_count": 11,
     "metadata": {},
     "output_type": "execute_result"
    }
   ],
   "source": [
    "terms.isna().sum()"
   ]
  },
  {
   "cell_type": "code",
   "execution_count": 12,
   "id": "1ac6c787",
   "metadata": {
    "scrolled": true
   },
   "outputs": [
    {
     "name": "stdout",
     "output_type": "stream",
     "text": [
      "<class 'pandas.core.frame.DataFrame'>\n",
      "RangeIndex: 18635 entries, 0 to 18634\n",
      "Data columns (total 11 columns):\n",
      " #   Column     Non-Null Count  Dtype  \n",
      "---  ------     --------------  -----  \n",
      " 0   congress   18635 non-null  int64  \n",
      " 1   chamber    18635 non-null  object \n",
      " 2   bioguide   18635 non-null  object \n",
      " 3   firstname  18635 non-null  object \n",
      " 4   lastname   18635 non-null  object \n",
      " 5   birthday   18635 non-null  object \n",
      " 6   state      18635 non-null  object \n",
      " 7   party      18635 non-null  object \n",
      " 8   incumbent  18635 non-null  object \n",
      " 9   termstart  18635 non-null  object \n",
      " 10  age        18635 non-null  float64\n",
      "dtypes: float64(1), int64(1), object(9)\n",
      "memory usage: 1.6+ MB\n"
     ]
    }
   ],
   "source": [
    "terms.info()"
   ]
  },
  {
   "cell_type": "code",
   "execution_count": 22,
   "id": "46c9d7ae",
   "metadata": {},
   "outputs": [
    {
     "data": {
      "text/plain": [
       "array(['D', 'R', 'AL', 'L', 'I', 'ID'], dtype=object)"
      ]
     },
     "execution_count": 22,
     "metadata": {},
     "output_type": "execute_result"
    }
   ],
   "source": [
    "terms.party.unique()"
   ]
  },
  {
   "cell_type": "code",
   "execution_count": 28,
   "id": "08a9c52d",
   "metadata": {},
   "outputs": [],
   "source": [
    "termsTest = terms[terms['party'].str.contains('AL|L|I|ID')==False]"
   ]
  },
  {
   "cell_type": "code",
   "execution_count": 29,
   "id": "12fbd5e8",
   "metadata": {
    "scrolled": false
   },
   "outputs": [
    {
     "data": {
      "text/html": [
       "<div>\n",
       "<style scoped>\n",
       "    .dataframe tbody tr th:only-of-type {\n",
       "        vertical-align: middle;\n",
       "    }\n",
       "\n",
       "    .dataframe tbody tr th {\n",
       "        vertical-align: top;\n",
       "    }\n",
       "\n",
       "    .dataframe thead th {\n",
       "        text-align: right;\n",
       "    }\n",
       "</style>\n",
       "<table border=\"1\" class=\"dataframe\">\n",
       "  <thead>\n",
       "    <tr style=\"text-align: right;\">\n",
       "      <th></th>\n",
       "      <th>congress</th>\n",
       "      <th>chamber</th>\n",
       "      <th>bioguide</th>\n",
       "      <th>firstname</th>\n",
       "      <th>lastname</th>\n",
       "      <th>birthday</th>\n",
       "      <th>state</th>\n",
       "      <th>party</th>\n",
       "      <th>incumbent</th>\n",
       "      <th>termstart</th>\n",
       "      <th>age</th>\n",
       "    </tr>\n",
       "  </thead>\n",
       "  <tbody>\n",
       "    <tr>\n",
       "      <th>0</th>\n",
       "      <td>80</td>\n",
       "      <td>house</td>\n",
       "      <td>M000112</td>\n",
       "      <td>Joseph</td>\n",
       "      <td>Mansfield</td>\n",
       "      <td>1861-02-09</td>\n",
       "      <td>TX</td>\n",
       "      <td>D</td>\n",
       "      <td>Yes</td>\n",
       "      <td>1947-01-03</td>\n",
       "      <td>85.9</td>\n",
       "    </tr>\n",
       "    <tr>\n",
       "      <th>1</th>\n",
       "      <td>80</td>\n",
       "      <td>house</td>\n",
       "      <td>D000448</td>\n",
       "      <td>Robert</td>\n",
       "      <td>Doughton</td>\n",
       "      <td>1863-11-07</td>\n",
       "      <td>NC</td>\n",
       "      <td>D</td>\n",
       "      <td>Yes</td>\n",
       "      <td>1947-01-03</td>\n",
       "      <td>83.2</td>\n",
       "    </tr>\n",
       "    <tr>\n",
       "      <th>2</th>\n",
       "      <td>80</td>\n",
       "      <td>house</td>\n",
       "      <td>S000001</td>\n",
       "      <td>Adolph</td>\n",
       "      <td>Sabath</td>\n",
       "      <td>1866-04-04</td>\n",
       "      <td>IL</td>\n",
       "      <td>D</td>\n",
       "      <td>Yes</td>\n",
       "      <td>1947-01-03</td>\n",
       "      <td>80.7</td>\n",
       "    </tr>\n",
       "    <tr>\n",
       "      <th>3</th>\n",
       "      <td>80</td>\n",
       "      <td>house</td>\n",
       "      <td>E000023</td>\n",
       "      <td>Charles</td>\n",
       "      <td>Eaton</td>\n",
       "      <td>1868-03-29</td>\n",
       "      <td>NJ</td>\n",
       "      <td>R</td>\n",
       "      <td>Yes</td>\n",
       "      <td>1947-01-03</td>\n",
       "      <td>78.8</td>\n",
       "    </tr>\n",
       "    <tr>\n",
       "      <th>4</th>\n",
       "      <td>80</td>\n",
       "      <td>house</td>\n",
       "      <td>L000296</td>\n",
       "      <td>William</td>\n",
       "      <td>Lewis</td>\n",
       "      <td>1868-09-22</td>\n",
       "      <td>KY</td>\n",
       "      <td>R</td>\n",
       "      <td>No</td>\n",
       "      <td>1947-01-03</td>\n",
       "      <td>78.3</td>\n",
       "    </tr>\n",
       "    <tr>\n",
       "      <th>...</th>\n",
       "      <td>...</td>\n",
       "      <td>...</td>\n",
       "      <td>...</td>\n",
       "      <td>...</td>\n",
       "      <td>...</td>\n",
       "      <td>...</td>\n",
       "      <td>...</td>\n",
       "      <td>...</td>\n",
       "      <td>...</td>\n",
       "      <td>...</td>\n",
       "      <td>...</td>\n",
       "    </tr>\n",
       "    <tr>\n",
       "      <th>18630</th>\n",
       "      <td>113</td>\n",
       "      <td>senate</td>\n",
       "      <td>B000243</td>\n",
       "      <td>Max</td>\n",
       "      <td>Baucus</td>\n",
       "      <td>1937-12-10</td>\n",
       "      <td>MT</td>\n",
       "      <td>D</td>\n",
       "      <td>Yes</td>\n",
       "      <td>2013-01-03</td>\n",
       "      <td>75.1</td>\n",
       "    </tr>\n",
       "    <tr>\n",
       "      <th>18631</th>\n",
       "      <td>113</td>\n",
       "      <td>senate</td>\n",
       "      <td>C001099</td>\n",
       "      <td>William</td>\n",
       "      <td>Cowan</td>\n",
       "      <td>1965-04-03</td>\n",
       "      <td>MA</td>\n",
       "      <td>D</td>\n",
       "      <td>No</td>\n",
       "      <td>2013-01-03</td>\n",
       "      <td>47.8</td>\n",
       "    </tr>\n",
       "    <tr>\n",
       "      <th>18632</th>\n",
       "      <td>113</td>\n",
       "      <td>senate</td>\n",
       "      <td>C001100</td>\n",
       "      <td>Jeffrey</td>\n",
       "      <td>Chiesa</td>\n",
       "      <td>1961-06-21</td>\n",
       "      <td>NJ</td>\n",
       "      <td>R</td>\n",
       "      <td>No</td>\n",
       "      <td>2013-01-03</td>\n",
       "      <td>51.5</td>\n",
       "    </tr>\n",
       "    <tr>\n",
       "      <th>18633</th>\n",
       "      <td>113</td>\n",
       "      <td>senate</td>\n",
       "      <td>K000148</td>\n",
       "      <td>John</td>\n",
       "      <td>Kerry</td>\n",
       "      <td>1939-12-10</td>\n",
       "      <td>MA</td>\n",
       "      <td>D</td>\n",
       "      <td>Yes</td>\n",
       "      <td>2013-01-03</td>\n",
       "      <td>73.1</td>\n",
       "    </tr>\n",
       "    <tr>\n",
       "      <th>18634</th>\n",
       "      <td>113</td>\n",
       "      <td>senate</td>\n",
       "      <td>L000123</td>\n",
       "      <td>Frank</td>\n",
       "      <td>Lautenberg</td>\n",
       "      <td>1920-01-22</td>\n",
       "      <td>NJ</td>\n",
       "      <td>D</td>\n",
       "      <td>Yes</td>\n",
       "      <td>2013-01-03</td>\n",
       "      <td>93.0</td>\n",
       "    </tr>\n",
       "  </tbody>\n",
       "</table>\n",
       "<p>18564 rows × 11 columns</p>\n",
       "</div>"
      ],
      "text/plain": [
       "       congress chamber bioguide firstname    lastname    birthday state  \\\n",
       "0            80   house  M000112    Joseph   Mansfield  1861-02-09    TX   \n",
       "1            80   house  D000448    Robert    Doughton  1863-11-07    NC   \n",
       "2            80   house  S000001    Adolph      Sabath  1866-04-04    IL   \n",
       "3            80   house  E000023   Charles       Eaton  1868-03-29    NJ   \n",
       "4            80   house  L000296   William       Lewis  1868-09-22    KY   \n",
       "...         ...     ...      ...       ...         ...         ...   ...   \n",
       "18630       113  senate  B000243       Max      Baucus  1937-12-10    MT   \n",
       "18631       113  senate  C001099   William       Cowan  1965-04-03    MA   \n",
       "18632       113  senate  C001100   Jeffrey      Chiesa  1961-06-21    NJ   \n",
       "18633       113  senate  K000148      John       Kerry  1939-12-10    MA   \n",
       "18634       113  senate  L000123     Frank  Lautenberg  1920-01-22    NJ   \n",
       "\n",
       "      party incumbent   termstart   age  \n",
       "0         D       Yes  1947-01-03  85.9  \n",
       "1         D       Yes  1947-01-03  83.2  \n",
       "2         D       Yes  1947-01-03  80.7  \n",
       "3         R       Yes  1947-01-03  78.8  \n",
       "4         R        No  1947-01-03  78.3  \n",
       "...     ...       ...         ...   ...  \n",
       "18630     D       Yes  2013-01-03  75.1  \n",
       "18631     D        No  2013-01-03  47.8  \n",
       "18632     R        No  2013-01-03  51.5  \n",
       "18633     D       Yes  2013-01-03  73.1  \n",
       "18634     D       Yes  2013-01-03  93.0  \n",
       "\n",
       "[18564 rows x 11 columns]"
      ]
     },
     "execution_count": 29,
     "metadata": {},
     "output_type": "execute_result"
    }
   ],
   "source": [
    "termsTest"
   ]
  },
  {
   "cell_type": "code",
   "execution_count": 37,
   "id": "28a76f2b",
   "metadata": {
    "scrolled": true
   },
   "outputs": [
    {
     "name": "stderr",
     "output_type": "stream",
     "text": [
      "C:\\Users\\abdul\\AppData\\Local\\Temp\\ipykernel_6688\\129964445.py:1: SettingWithCopyWarning: \n",
      "A value is trying to be set on a copy of a slice from a DataFrame.\n",
      "Try using .loc[row_indexer,col_indexer] = value instead\n",
      "\n",
      "See the caveats in the documentation: https://pandas.pydata.org/pandas-docs/stable/user_guide/indexing.html#returning-a-view-versus-a-copy\n",
      "  termsTest['termstart']= pd.to_datetime(termsTest['termstart'], infer_datetime_format=True)\n"
     ]
    }
   ],
   "source": [
    "termsTest['termstart']= pd.to_datetime(termsTest['termstart'], infer_datetime_format=True)  "
   ]
  },
  {
   "cell_type": "code",
   "execution_count": 39,
   "id": "0e12b306",
   "metadata": {},
   "outputs": [
    {
     "name": "stdout",
     "output_type": "stream",
     "text": [
      "<class 'pandas.core.frame.DataFrame'>\n",
      "Int64Index: 18564 entries, 0 to 18634\n",
      "Data columns (total 11 columns):\n",
      " #   Column     Non-Null Count  Dtype         \n",
      "---  ------     --------------  -----         \n",
      " 0   congress   18564 non-null  int64         \n",
      " 1   chamber    18564 non-null  object        \n",
      " 2   bioguide   18564 non-null  object        \n",
      " 3   firstname  18564 non-null  object        \n",
      " 4   lastname   18564 non-null  object        \n",
      " 5   birthday   18564 non-null  object        \n",
      " 6   state      18564 non-null  object        \n",
      " 7   party      18564 non-null  object        \n",
      " 8   incumbent  18564 non-null  object        \n",
      " 9   termstart  18564 non-null  datetime64[ns]\n",
      " 10  age        18564 non-null  float64       \n",
      "dtypes: datetime64[ns](1), float64(1), int64(1), object(8)\n",
      "memory usage: 1.7+ MB\n"
     ]
    }
   ],
   "source": [
    "termsTest.info()"
   ]
  },
  {
   "cell_type": "code",
   "execution_count": 31,
   "id": "8274f284",
   "metadata": {
    "scrolled": true
   },
   "outputs": [
    {
     "data": {
      "text/plain": [
       "array(['D', 'R'], dtype=object)"
      ]
     },
     "execution_count": 31,
     "metadata": {},
     "output_type": "execute_result"
    }
   ],
   "source": [
    "termsTest.party.unique()"
   ]
  },
  {
   "cell_type": "code",
   "execution_count": 40,
   "id": "ec5e5e29",
   "metadata": {
    "scrolled": false
   },
   "outputs": [
    {
     "data": {
      "text/plain": [
       "<seaborn.axisgrid.PairGrid at 0x1dad28c2c70>"
      ]
     },
     "execution_count": 40,
     "metadata": {},
     "output_type": "execute_result"
    },
    {
     "data": {
      "image/png": "[encoded data removed]",
      "text/plain": [
       "<Figure size 500x500 with 6 Axes>"
      ]
     },
     "metadata": {},
     "output_type": "display_data"
    }
   ],
   "source": [
    "sns.pairplot(termsTest)"
   ]
  },
  {
   "cell_type": "code",
   "execution_count": 41,
   "id": "b6458d9b",
   "metadata": {},
   "outputs": [
    {
     "name": "stdout",
     "output_type": "stream",
     "text": [
      "<class 'pandas.core.frame.DataFrame'>\n",
      "Int64Index: 18564 entries, 0 to 18634\n",
      "Data columns (total 11 columns):\n",
      " #   Column     Non-Null Count  Dtype         \n",
      "---  ------     --------------  -----         \n",
      " 0   congress   18564 non-null  int64         \n",
      " 1   chamber    18564 non-null  object        \n",
      " 2   bioguide   18564 non-null  object        \n",
      " 3   firstname  18564 non-null  object        \n",
      " 4   lastname   18564 non-null  object        \n",
      " 5   birthday   18564 non-null  object        \n",
      " 6   state      18564 non-null  object        \n",
      " 7   party      18564 non-null  object        \n",
      " 8   incumbent  18564 non-null  object        \n",
      " 9   termstart  18564 non-null  datetime64[ns]\n",
      " 10  age        18564 non-null  float64       \n",
      "dtypes: datetime64[ns](1), float64(1), int64(1), object(8)\n",
      "memory usage: 1.7+ MB\n"
     ]
    }
   ],
   "source": [
    "termsTest.info()"
   ]
  },
  {
   "cell_type": "code",
   "execution_count": null,
   "id": "367a137a",
   "metadata": {},
   "outputs": [],
   "source": []
  }
 ],
 "metadata": {
  "kernelspec": {
   "display_name": "Python 3 (ipykernel)",
   "language": "python",
   "name": "python3"
  },
  "language_info": {
   "codemirror_mode": {
    "name": "ipython",
    "version": 3
   },
   "file_extension": ".py",
   "mimetype": "text/x-python",
   "name": "python",
   "nbconvert_exporter": "python",
   "pygments_lexer": "ipython3",
   "version": "3.9.16"
  }
 },
 "nbformat": 4,
 "nbformat_minor": 5
}
