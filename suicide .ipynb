{
 "cells": [
  {
   "cell_type": "code",
   "execution_count": 1,
   "id": "e3c7381d",
   "metadata": {},
   "outputs": [],
   "source": [
    "import pandas as pd \n",
    "import matplotlib.pyplot as plt\n",
    "import seaborn as sns\n",
    "import numpy as np\n",
    "import seaborn as sns\n",
    "import statsmodels.api as sm\n",
    "from scipy.stats import pearsonr\n",
    "from scipy import stats\n"
   ]
  },
  {
   "cell_type": "code",
   "execution_count": 2,
   "id": "772ee27d",
   "metadata": {},
   "outputs": [],
   "source": [
    "dfUS = pd.read_csv('Suicide.csv')\n"
   ]
  },
  {
   "cell_type": "code",
   "execution_count": 3,
   "id": "c9eb3196",
   "metadata": {
    "scrolled": true
   },
   "outputs": [
    {
     "ename": "NameError",
     "evalue": "name 'master' is not defined",
     "output_type": "error",
     "traceback": [
      "\u001b[1;31m---------------------------------------------------------------------------\u001b[0m",
      "\u001b[1;31mNameError\u001b[0m                                 Traceback (most recent call last)",
      "Cell \u001b[1;32mIn[3], line 1\u001b[0m\n\u001b[1;32m----> 1\u001b[0m \u001b[43mmaster\u001b[49m\u001b[38;5;241m.\u001b[39mhead()\n",
      "\u001b[1;31mNameError\u001b[0m: name 'master' is not defined"
     ]
    }
   ],
   "source": [
    "master.head()"
   ]
  },
  {
   "cell_type": "code",
   "execution_count": null,
   "id": "4caad65f",
   "metadata": {
    "scrolled": true
   },
   "outputs": [],
   "source": [
    "master.age.unique()"
   ]
  },
  {
   "cell_type": "code",
   "execution_count": null,
   "id": "50983c6f",
   "metadata": {},
   "outputs": [],
   "source": [
    "master.generation.unique()"
   ]
  },
  {
   "cell_type": "code",
   "execution_count": null,
   "id": "04fe0177",
   "metadata": {},
   "outputs": [],
   "source": []
  },
  {
   "cell_type": "code",
   "execution_count": null,
   "id": "4ecbd33c",
   "metadata": {
    "scrolled": true
   },
   "outputs": [],
   "source": [
    "sns.histplot(master[\"suicides/100k pop\"])\n"
   ]
  },
  {
   "cell_type": "code",
   "execution_count": null,
   "id": "20ddc00b",
   "metadata": {
    "scrolled": true
   },
   "outputs": [],
   "source": [
    "sns.lineplot(x=\"year\", y=\"suicides/100kpop\", data=master)\n"
   ]
  },
  {
   "cell_type": "code",
   "execution_count": null,
   "id": "8e220f2d",
   "metadata": {},
   "outputs": [],
   "source": [
    "sns.lineplot(x=\"year\", y=\"suicides_no\", data=USAData)\n"
   ]
  },
  {
   "cell_type": "code",
   "execution_count": null,
   "id": "921118c4",
   "metadata": {
    "scrolled": true
   },
   "outputs": [],
   "source": [
    "sns.barplot(x=\"country\", y=\"suicides/100kpop\", data=master)\n"
   ]
  },
  {
   "cell_type": "code",
   "execution_count": null,
   "id": "90bd2ed0",
   "metadata": {
    "scrolled": true
   },
   "outputs": [],
   "source": [
    "suicide_data_heatmap = master.pivot_table(index=\"age\", columns=\"year\", values=\"suicides/100k pop\", aggfunc=\"mean\")\n",
    "sns.heatmap(suicide_data_heatmap, cmap=\"YlGnBu\")\n",
    "plt.show()"
   ]
  },
  {
   "cell_type": "code",
   "execution_count": null,
   "id": "9d1b8c23",
   "metadata": {},
   "outputs": [],
   "source": [
    "USAData.groupby('year').sum()\n"
   ]
  },
  {
   "cell_type": "code",
   "execution_count": null,
   "id": "74d2a26d",
   "metadata": {},
   "outputs": [],
   "source": [
    "sns.scatterplot(x=\"gdp_per_capita ($)\", y=\"suicides/100k pop\", data=master)\n"
   ]
  },
  {
   "cell_type": "code",
   "execution_count": null,
   "id": "c0ceb449",
   "metadata": {},
   "outputs": [],
   "source": [
    "master = pd.read_csv('master.csv')"
   ]
  },
  {
   "cell_type": "code",
   "execution_count": null,
   "id": "99ec576b",
   "metadata": {},
   "outputs": [],
   "source": [
    "master.columns=master.columns.str.replace(' ','')"
   ]
  },
  {
   "cell_type": "code",
   "execution_count": null,
   "id": "fe2b6f43",
   "metadata": {},
   "outputs": [],
   "source": [
    "master.columns=master.columns.str.replace('(','').str.replace(')','').str.replace('$','')"
   ]
  },
  {
   "cell_type": "code",
   "execution_count": null,
   "id": "7abb6582",
   "metadata": {
    "scrolled": true
   },
   "outputs": [],
   "source": [
    "master.isna().sum()"
   ]
  },
  {
   "cell_type": "code",
   "execution_count": null,
   "id": "dd0a3d52",
   "metadata": {},
   "outputs": [],
   "source": [
    "masterCat['popNorma'] = stats.zscore(masterCat['population'])\n"
   ]
  },
  {
   "cell_type": "code",
   "execution_count": null,
   "id": "8d4ecd3f",
   "metadata": {},
   "outputs": [],
   "source": [
    "popMin = masterCat.population.min()\n",
    "popMax = masterCat.population.max()"
   ]
  },
  {
   "cell_type": "code",
   "execution_count": null,
   "id": "b88b2053",
   "metadata": {},
   "outputs": [],
   "source": [
    "def normalize(x):\n",
    "    return (x - popMin) / (popMax - popMin)\n",
    "\n",
    "masterCat['popNorma'] = masterCat['population'].apply(normalize)"
   ]
  },
  {
   "cell_type": "code",
   "execution_count": null,
   "id": "43c4c538",
   "metadata": {},
   "outputs": [],
   "source": [
    "masterCat.head()"
   ]
  },
  {
   "cell_type": "code",
   "execution_count": null,
   "id": "e271f314",
   "metadata": {
    "scrolled": true
   },
   "outputs": [],
   "source": [
    "sns.pairplot(master)"
   ]
  },
  {
   "cell_type": "code",
   "execution_count": null,
   "id": "c333f560",
   "metadata": {},
   "outputs": [],
   "source": [
    "def corrfunc(x, y, **kwargs):\n",
    "    def pvalue_stars(p):\n",
    "        if 0.05 >= p > 0.01:\n",
    "            return '*'\n",
    "        elif 0.01 >= p > 0.001:\n",
    "            return '**'\n",
    "        elif p <= 0.001:\n",
    "            return '***'\n",
    "        else:\n",
    "            return ''\n",
    "    cmap = kwargs['cmap']\n",
    "    norm = kwargs['norm']\n",
    "    ax = plt.gca()\n",
    "    ax.grid(False)\n",
    "    r, p = pearsonr(x, y)\n",
    "    facecolor = cmap(norm(r))\n",
    "    ax.set_facecolor(facecolor)\n",
    "    lightness = (max(facecolor[:3]) + min(facecolor[:3])) / 2\n",
    "    ax.annotate(f\"{r:.2f}{pvalue_stars(p)}\", xy=(.5, .5), xycoords=ax,\n",
    "                color='white' if lightness < 0.7 else 'black',\n",
    "                size=18, ha='center', va='center')\n",
    "    \n",
    "g = sns.PairGrid(masterCat, height=1.5, diag_sharey=False)\n",
    "g.map_lower(sns.scatterplot)\n",
    "g.map_upper(corrfunc,\n",
    "            cmap=plt.get_cmap('RdBu_r'), \n",
    "            norm=plt.Normalize(vmin=-1, vmax=1))\n",
    "g.add_legend()\n",
    "plt.show()"
   ]
  },
  {
   "cell_type": "code",
   "execution_count": null,
   "id": "3f2dcc0f",
   "metadata": {},
   "outputs": [],
   "source": [
    "masterCat = master.copy()"
   ]
  },
  {
   "cell_type": "code",
   "execution_count": null,
   "id": "756eec75",
   "metadata": {},
   "outputs": [],
   "source": [
    "test = masterCat.copy()"
   ]
  },
  {
   "cell_type": "code",
   "execution_count": null,
   "id": "9a933739",
   "metadata": {},
   "outputs": [],
   "source": [
    "masterCat.age.unique()"
   ]
  },
  {
   "cell_type": "code",
   "execution_count": null,
   "id": "bff8bf63",
   "metadata": {
    "scrolled": true
   },
   "outputs": [],
   "source": [
    "test.age[test.age == '5-14 years'] = 1\n",
    "test.age[test.age == '15-24 years'] = 2\n",
    "test.age[test.age == '25-34 years'] = 3\n",
    "test.age[test.age == '35-54 years'] = 4\n",
    "test.age[test.age == '55-74 years'] = 5\n",
    "test.age[test.age == '75+ years'] = 6\n"
   ]
  },
  {
   "cell_type": "code",
   "execution_count": null,
   "id": "405d9e53",
   "metadata": {},
   "outputs": [],
   "source": [
    "test.head()"
   ]
  },
  {
   "cell_type": "code",
   "execution_count": null,
   "id": "fd1dbf16",
   "metadata": {
    "scrolled": true
   },
   "outputs": [],
   "source": [
    "masterCat.sex[masterCat.sex == 'male'] = 1\n",
    "masterCat.sex[masterCat.sex == 'female'] = 2\n",
    "masterCat.generation[masterCat.generation == 'G.I. Generation'] = 1\n",
    "masterCat.generation[masterCat.generation == 'Silent'] = 2\n",
    "masterCat.generation[masterCat.generation == 'Boomers'] = 3\n",
    "masterCat.generation[masterCat.generation == 'Generation X'] = 4\n",
    "masterCat.generation[masterCat.generation == 'Millenials'] = 5\n",
    "masterCat.generation[masterCat.generation == 'Generation Z'] = 6\n",
    "masterCat.age[masterCat.age == 'Generation Z'] = 1\n",
    "\n"
   ]
  },
  {
   "cell_type": "code",
   "execution_count": null,
   "id": "ce4ff867",
   "metadata": {
    "scrolled": true
   },
   "outputs": [],
   "source": [
    "masterCat.population"
   ]
  },
  {
   "cell_type": "code",
   "execution_count": null,
   "id": "932c7bf5",
   "metadata": {
    "scrolled": true
   },
   "outputs": [],
   "source": [
    "masterCat.country.unique()"
   ]
  },
  {
   "cell_type": "code",
   "execution_count": null,
   "id": "5fee5706",
   "metadata": {},
   "outputs": [],
   "source": [
    "masterCat.loc[(masterCat['country']=='United States')&(masterCat['year']==2013)]"
   ]
  },
  {
   "cell_type": "code",
   "execution_count": null,
   "id": "afe4b080",
   "metadata": {},
   "outputs": [],
   "source": [
    "test.head()"
   ]
  },
  {
   "cell_type": "code",
   "execution_count": null,
   "id": "eda5142a",
   "metadata": {},
   "outputs": [],
   "source": [
    "#y = masterCat['suicides/100kpop']\n",
    "y = test['suicides_no']\n",
    "\n",
    "# set Y \n",
    "#x1=masterCat[['gdp_per_capita']]\n",
    "#x1=masterCat[['population','sex','generation']]\n",
    "#x1=masterCat[['sex','generation','gdp_per_capita']]\n",
    "x1=test[['sex','generation','popNorma','age']]"
   ]
  },
  {
   "cell_type": "code",
   "execution_count": null,
   "id": "cd32750a",
   "metadata": {},
   "outputs": [],
   "source": [
    "masterCat.sex = masterCat.sex.apply(pd.to_numeric)\n",
    "masterCat.generation = masterCat.generation.apply(pd.to_numeric)\n",
    "test.age = test.age.apply(pd.to_numeric)\n",
    "\n"
   ]
  },
  {
   "cell_type": "code",
   "execution_count": null,
   "id": "7e400f92",
   "metadata": {
    "scrolled": true
   },
   "outputs": [],
   "source": [
    "x = sm.add_constant(x1)\n",
    "results = sm.OLS(y,x).fit()\n",
    "results.summary()"
   ]
  },
  {
   "cell_type": "code",
   "execution_count": null,
   "id": "fa0f26ab",
   "metadata": {},
   "outputs": [],
   "source": [
    "USAData= test.loc[test['country']=='United States'].copy()"
   ]
  },
  {
   "cell_type": "code",
   "execution_count": null,
   "id": "8efe3604",
   "metadata": {
    "scrolled": true
   },
   "outputs": [],
   "source": [
    "sns.barplot(y='suicides_no',x='generation',hue='sex',data=test[test['country']=='United States'])"
   ]
  },
  {
   "cell_type": "code",
   "execution_count": null,
   "id": "e5088429",
   "metadata": {},
   "outputs": [],
   "source": [
    "plt.figure(figsize=(24,8))\n",
    "graph=sns.lineplot(prices_simple.wheat,label='Wheat Price  €')\n",
    "graph.axvline(pd.to_datetime('1/31/2020'),c='r',label='WHO Issues Global Health Emergency',ymin=.1,ymax=.55)\n",
    "graph.axvline(pd.to_datetime('2/24/2022'),c='black',label='Russia Invades Ukraine',ymin=.3,ymax=.98,)\n",
    "plt.xlabel(\"\")\n",
    "plt.ylabel(\"Wheat Price  €\")\n",
    "props = dict(boxstyle='round', facecolor='#7393B3', alpha=0.5)\n",
    "string1=\"Wheat prices begin\\nan upward trend\"\n",
    "string2=\"Wheat prices\\nhit a new record\\nin March 2022\"\n",
    "text1=graph.text(0.7,0.4,string1,fontsize=14,transform=graph.transAxes,verticalalignment='center', bbox=props)\n",
    "text2=graph.text(0.9,0.2,string2,fontsize=14,transform=graph.transAxes,verticalalignment='center', bbox=props)\n",
    "graph.legend()"
   ]
  },
  {
   "cell_type": "code",
   "execution_count": null,
   "id": "aefdfe82",
   "metadata": {},
   "outputs": [],
   "source": [
    "tots = USAData.groupby('year')['suicides_no'].sum()\n",
    "sns.barplot(y=tots,x='generation',hue='sex',data=test[test['country']=='United States'])"
   ]
  },
  {
   "cell_type": "code",
   "execution_count": null,
   "id": "e3a9e9a1",
   "metadata": {},
   "outputs": [],
   "source": [
    "#new_df = pd.DataFrame({'constant':1,'generation':[1,2,3,6], 'gdp_per_capita':[5000,789,5000,6000],'population':[300000000, 312900, 1200, 1200]})\n",
    "#new_df = pd.DataFrame({'constant':1,'population':[300000000, 312900, 1200, 1200],'sex':[1,2,1,1],'generation':[1,4,6,4]})\n",
    "#new_df = pd.DataFrame({'constant':1,'sex':[1,2,1,1],'generation':[1,4,6,4],'gdp_per_capita':[1222,789,5000,6000]})\n",
    "new_df = pd.DataFrame({'constant':1,'age':[1,4,6,5],'sex':[1,2,1,2],'generation':[1,1,6,6],'popNorma':[0.906256,0.003256,0.066256,0.036256]})\n"
   ]
  },
  {
   "cell_type": "code",
   "execution_count": null,
   "id": "68a37368",
   "metadata": {},
   "outputs": [],
   "source": [
    "new_df['suicides'] = results.predict(new_df)\n",
    "new_df"
   ]
  },
  {
   "cell_type": "code",
   "execution_count": null,
   "id": "0a1b6604",
   "metadata": {},
   "outputs": [],
   "source": [
    "masterCat.head()"
   ]
  },
  {
   "cell_type": "code",
   "execution_count": null,
   "id": "59daf52c",
   "metadata": {},
   "outputs": [],
   "source": [
    "#masterCat.loc[(masterCat['generation']==6) & (masterCat['sex']==1)&(masterCat['country']=='United States')]\n",
    "masterCat.loc[(masterCat['generation']==1) &(masterCat['country']=='United States')]"
   ]
  },
  {
   "cell_type": "code",
   "execution_count": null,
   "id": "6243189a",
   "metadata": {},
   "outputs": [],
   "source": [
    "test.to_csv('cleanData.csv',index=False)"
   ]
  },
  {
   "cell_type": "code",
   "execution_count": null,
   "id": "a2a1d899",
   "metadata": {},
   "outputs": [],
   "source": [
    "clean = pd.read_csv('cleanData.csv')"
   ]
  },
  {
   "cell_type": "code",
   "execution_count": null,
   "id": "ee716c30",
   "metadata": {},
   "outputs": [],
   "source": [
    "clean.head()"
   ]
  },
  {
   "cell_type": "code",
   "execution_count": null,
   "id": "58c2a61a",
   "metadata": {},
   "outputs": [],
   "source": []
  }
 ],
 "metadata": {
  "kernelspec": {
   "display_name": "Python 3 (ipykernel)",
   "language": "python",
   "name": "python3"
  },
  "language_info": {
   "codemirror_mode": {
    "name": "ipython",
    "version": 3
   },
   "file_extension": ".py",
   "mimetype": "text/x-python",
   "name": "python",
   "nbconvert_exporter": "python",
   "pygments_lexer": "ipython3",
   "version": "3.9.16"
  }
 },
 "nbformat": 4,
 "nbformat_minor": 5
}
